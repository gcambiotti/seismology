{
 "cells": [
  {
   "cell_type": "markdown",
   "id": "dbd4979b-33ce-4b0a-b429-2d845bf70ea3",
   "metadata": {
    "tags": []
   },
   "source": [
    "(chap-dirac-delta)=\n",
    "# Dirac delta function\n",
    "\n",
    "\n",
    "```{contents} Sections\n",
    ":local:\n",
    ":depth: 2\n",
    "```\n"
   ]
  },
  {
   "cell_type": "markdown",
   "id": "4c22da26-3e60-4b58-93c5-488fe4e46798",
   "metadata": {},
   "source": [
    "## Definition"
   ]
  },
  {
   "cell_type": "markdown",
   "id": "37701bf2-4d93-40b6-8e97-679b3d343d26",
   "metadata": {
    "tags": []
   },
   "source": [
    "```{div} full-width\n",
    "\n",
    "The Dirac delta can be loosely thought of as a function on the real line which is zero everywhere except at the origin, where it is infinite,\n",
    "\n",
    "$$\\begin{align}\n",
    "\\delta(x) = \\begin{cases} \\infty & x=0 \\\\ 0 & x\\neq 0 \\end{cases}\n",
    "\\end{align}$$ (A0:1)\n",
    "\n",
    "and which is also constrained to satisfy the identity\n",
    "\n",
    "$$\\begin{align}\n",
    "\\int_{-\\infty}^\\infty \\delta(x)\\,\\mathrm{d}x = 1\n",
    "\\end{align}$$ (A0:2)\n",
    "\n",
    "A better characterization consists in consdering the Dirac delta function as a generalized function. In the theory of distributions, a generalized function is considered not a function in itself but only about how it affects other functions when \"integrated\" against them. In keeping with this philosophy, to define the delta function properly, it is enough to say what the \"integral\" of the delta function is against a sufficiently \"good\" test function $f$\n",
    "\n",
    "$$\\begin{align}\n",
    "\\int_{\\mathcal{I}} f(x)\\,\\delta(x)\\,\\mathrm{d}x = \n",
    "\\begin{cases} f(0) & 0\\in\\mathcal{I} \\\\ \n",
    "0 & 0\\notin\\mathcal{I}\n",
    "\\end{cases}\n",
    "\\end{align}$$ (A0:3)\n",
    "\n",
    "where $\\mathcal{I}$ is an open interval of the real axis. In this respect, the Dirac delta can be defined as the distributional derivative of the Heaviside step function\n",
    "\n",
    "$$\n",
    "\\begin{align}\n",
    "\\delta(x) = \\dot{H}(x) \n",
    "\\end{align}\n",
    "$$  (A0:4)\n",
    "\n",
    "where the dot $\\cdot$ stands for the first-order derivative and $H$ is the Heaviside step function\n",
    "\n",
    "$$\n",
    "\\begin{align}\n",
    "H(x) = \\begin{cases} 1 & x \\geq 0 \\\\ 0 & x<0 \\end{cases}\n",
    "\\end{align} \n",
    "$$ (A0:5)\n",
    "\n",
    "```\n",
    "\n",
    "```{admonition} Proof of \n",
    ":class: note, full-width\n",
    "\n",
    "Let us consider the integration by parts of two function $f(x)$ and $g(x)$\n",
    "\n",
    "$$\\begin{align}\n",
    "\\int_a^b f(x)\\,\\dot{g}(x)\\,\\mathrm{d}x = \\left. f(x)\\,g(x)\\,\\right|_a^b - \\int_a^b \\dot{f}(x)\\,g(x)\\,\\mathrm{d}x\n",
    "\\end{align}$$ (A0:6)\n",
    "\n",
    "and apply it to the case in which $g(x)=H(x)$ and $a<0<b$\n",
    "\n",
    "$$\\begin{align}\n",
    "\\int_a^b f(x)\\,\\delta(x)\\,\\mathrm{d}x &= \\left.f(x)\\,H(x)\\,\\right|_a^b - \\int_a^b \\dot{f}(x)\\,H(x)\\,\\mathrm{d}x \\\\\n",
    "&= f(b) - \\int_0^b \\dot{f}(x)\\,\\mathrm{d}x = f(b) - \\left. f(x)\\,\\right|_0^b = f(0)\n",
    "\\end{align}$$ (A0:7)\n",
    "\n"
   ]
  },
  {
   "cell_type": "markdown",
   "id": "66895c61-9e02-4b02-8e16-d611d39d483d",
   "metadata": {
    "tags": []
   },
   "source": [
    "## Dirac delta derivative"
   ]
  },
  {
   "cell_type": "markdown",
   "id": "288495f2-576c-4c38-876b-334f1373338e",
   "metadata": {},
   "source": [
    "```{div} full-width\n",
    "\n",
    "The Dirac delta derivative is defined as follows\n",
    "\n",
    "$$\\begin{align}\n",
    "\\int_a^b f(x)\\,\\delta'(x)\\,\\mathrm{d}x &= \\left. f(x)\\,\\delta(x)\\,\\right|_a^b - \\int_a^b \\dot{f}(x)\\,\\delta(x)\\,\\mathrm{d}x =  -\\dot{f}(0)\n",
    "\\end{align}$$ (A0:8)\n",
    "\n",
    "For higher-order derivatives one obtians\n",
    "\n",
    "$$\\begin{align}\n",
    "\\int_a^b f(x)\\,\\delta^{(n)}(x)\\,\\mathrm{d}x &= (-1)^n\\,f^{(n)}(0)\n",
    "\\end{align}$$ (A0:9)\n",
    "\n",
    "```"
   ]
  },
  {
   "cell_type": "markdown",
   "id": "d44cfcc3-eb72-4613-90c5-c962e35666b5",
   "metadata": {},
   "source": [
    "## Basic propetries \n",
    "\n",
    "```{div} full-width\n",
    "\n",
    "The Dirac delta is symmetric\n",
    "\n",
    "$$\\begin{align}\n",
    "\\delta(-x) = \\delta(x)\n",
    "\\end{align}$$ (A0:10)\n",
    "\n",
    "and the product of the Dirac delta with $x$ is equal to zero\n",
    "\n",
    "$$\\begin{align}\n",
    "x\\,\\delta(x) = 0\n",
    "\\end{align}$$ (A0:11)\n",
    "\n",
    "The Dirac delta derivative satisfies a number of basic properties\n",
    "\n",
    "$$\\begin{align}\n",
    "& \\dot{\\delta}(-x) = -\\dot{\\delta}(x) \\\\\n",
    "& x\\,\\dot{\\delta}(x) = -\\delta(x)\n",
    "\\end{align}$$ (A0:12)\n",
    "\n",
    "```"
   ]
  },
  {
   "cell_type": "markdown",
   "id": "e2212a2e-61e6-49f5-9a96-d01b28d1adc6",
   "metadata": {},
   "source": [
    "## Three-dimensional Dirac delta"
   ]
  },
  {
   "cell_type": "markdown",
   "id": "acd7b750-ce6f-4a50-bc0c-9dd70697bd35",
   "metadata": {},
   "source": [
    "```{div} full-width\n",
    "\n",
    "The three-dimensional Dirac delta can be defined in the Cartesian reference frame as \n",
    "\n",
    "$$\n",
    "\\delta(\\mathbf{x}) = \\delta(x_1)\\,\\delta(x_2)\\,\\delta(x_3)\n",
    "$$ (A0:13)\n",
    "\n",
    "where $x_j$ are the Cartesian coordinates.\n",
    "\n",
    "Similar to the one-dimensional case, eq. {eq}`A0:3`, it satify the following identity\n",
    "\n",
    "$$\\begin{align}\n",
    "\\int_{\\mathcal{V}} f(\\mathbf{x})\\,\\delta(\\mathbf{x})\\,\\mathrm{d}V = \n",
    "\\begin{cases} f(\\mathbf{0}) & \\mathbf{0}\\in\\mathcal{V} \\\\ \n",
    "0 & \\mathbf{0}\\notin\\mathcal{V}\n",
    "\\end{cases}\n",
    "\\end{align}$$ (A0:14)\n",
    "\n",
    "where $\\mathcal{V}\\subseteq\\mathbb{R}^3$ is a open region of the three-dimensional space and $dV=dx_1\\,dx_2\\,dx_3$ is the infinitesimal volume element.\n",
    "\n",
    "```\n",
    "\n",
    "```{note}\n",
    ":class: full-width\n",
    "It can be shown that the Laplacian of the inverse of the radial distance from the origin is proportional to the three-dimensional Dirac delta\n",
    "\n",
    "$$\n",
    "\\nabla^2 \\frac{1}{r} = -4\\,\\pi\\,\\delta(\\mathbf{x})\n",
    "$$ (A0:15)\n",
    "\n",
    "with\n",
    "\n",
    "$$\n",
    "r = \\sqrt{\\mathbf{x}\\cdot\\mathbf{x}}\n",
    "$$ (A0:16)\n",
    "\n",
    "```"
   ]
  },
  {
   "cell_type": "markdown",
   "id": "c77da108-faba-46e1-bb8c-57ff502b1958",
   "metadata": {},
   "source": [
    "<p style=\"page-break-after:always;\"></p>"
   ]
  }
 ],
 "metadata": {
  "kernelspec": {
   "display_name": "Python 3 (ipykernel)",
   "language": "python",
   "name": "python3"
  },
  "language_info": {
   "codemirror_mode": {
    "name": "ipython",
    "version": 3
   },
   "file_extension": ".py",
   "mimetype": "text/x-python",
   "name": "python",
   "nbconvert_exporter": "python",
   "pygments_lexer": "ipython3",
   "version": "3.11.0"
  },
  "toc-autonumbering": false,
  "toc-showcode": false,
  "toc-showmarkdowntxt": false,
  "toc-showtags": true
 },
 "nbformat": 4,
 "nbformat_minor": 5
}