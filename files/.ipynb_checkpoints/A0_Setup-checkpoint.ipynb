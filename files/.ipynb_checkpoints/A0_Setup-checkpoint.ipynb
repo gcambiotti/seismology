{
 "cells": [
  {
   "cell_type": "markdown",
   "id": "99dbddc1-8bdf-4162-9b40-86c52f273625",
   "metadata": {
    "tags": [
     "full-width"
    ]
   },
   "source": [
    "# Working with [JupyterLab](https://jupyter.org)\n",
    "\n",
    "```{contents} Sections\n",
    ":local:\n",
    ":depth: 2\n",
    "```\n",
    "\n",
    "```{div} full-width\n",
    "\n",
    "[Miniconda](https://docs.conda.io/en/latest/miniconda.html) is a free minimal installer for [conda](https://docs.conda.io/en/latest). It is a small, bootstrap version of [Anaconda](https://www.anaconda.com) that includes only [conda](https://docs.conda.io/en/latest), [Python](https://www.python.org), the packages they depend on, and a small number of other useful packages, including pip, zlib and a few others. \n",
    "\n",
    "```"
   ]
  },
  {
   "cell_type": "markdown",
   "id": "58875283-5156-4b79-b989-a877314ba398",
   "metadata": {},
   "source": [
    "## [Miniconda](https://docs.conda.io/en/latest/miniconda.html) and [conda environments](https://docs.conda.io/projects/conda/en/latest/user-guide/concepts/environments.html)\n",
    "\n",
    "```{div} full-width\n",
    "\n",
    "Install [Miniconda](https://docs.conda.io/en/latest/miniconda.html) selecting the right [Miniconda installer](https://docs.conda.io/en/latest/miniconda.html#latest-miniconda-installer-links) for your operating system and, then, create a new [conda environment](https://docs.conda.io/projects/conda/en/latest/user-guide/concepts/environments.html) running in a terminal\n",
    "\n",
    "```"
   ]
  },
  {
   "cell_type": "markdown",
   "id": "51c6f16e-59a0-4127-90b3-ce1e42bb192e",
   "metadata": {
    "tags": [
     "full-width"
    ]
   },
   "source": [
    "````{div} full-width\n",
    "```\n",
    "conda create -n seismology ipython \n",
    "conda activate seismology  \n",
    "conda install -c conda-forge jupyter-book jupyterlab  \n",
    "conda install cartopy obspy geopy\n",
    "```\n",
    "````"
   ]
  },
  {
   "cell_type": "markdown",
   "id": "eb8c4e92-0278-44d5-ae0e-60198f84bc6a",
   "metadata": {
    "tags": [
     "full-width"
    ]
   },
   "source": [
    "```{div} full-width\n",
    "\n",
    "We have just create a [conda environment](https://docs.conda.io/projects/conda/en/latest/user-guide/concepts/environments.html) named *seismology* and installed the packages for \n",
    "\n",
    "- the [IPython](https://ipython.org) interactive shell and kernel for [Jupyter](https://jupyter.org).\n",
    "- the web-based interactive development environment [JupyterLab](https://jupyter.org/) for notebooks, code, and data.\n",
    "\n",
    "Then, we have activated the conda environment *seislab* and installed \n",
    "\n",
    "- [ObsPy](https://docs.obspy.org) for processing seismological data. It provides parsers for common file formats, clients to access data centers and seismological signal processing routines which allow the manipulation of seismological time series.\n",
    "- [Cartopy](https://scitools.org.uk/cartopy/docs/latest) for geospatial data processing in order to produce maps and other geospatial data analyses.\n",
    "- [GeoPy](https://geopy.readthedocs.io/en/stable/geopy) is a Python client for several popular geocoding web services that we will use just for calculating distance between geographic points.\n",
    "```"
   ]
  },
  {
   "cell_type": "markdown",
   "id": "954b3f07-57d6-452e-853e-e7ec5b682144",
   "metadata": {},
   "source": [
    "```{tip}\n",
    ":class: full-width\n",
    "\n",
    "If your operating system is Windows, please visit https://docs.conda.io/projects/conda/en/latest/user-guide/install/windows.html for additional information on the installation of [Miniconda](https://docs.conda.io/en/latest/miniconda.html).\n",
    "\n",
    "```"
   ]
  },
  {
   "cell_type": "markdown",
   "id": "d23d430f",
   "metadata": {
    "tags": [
     "full-width"
    ]
   },
   "source": [
    "## Our first Jupyter notebook\n",
    "\n",
    "````{div} full-width\n",
    "\n",
    "Then, we will make a directory where we will save our scripts and data, and lunch the web-based interactive development environment [JupyterLab](https://jupyter.org/) from this directory\n",
    "\n",
    "```\n",
    "mkdir documents/seismology\n",
    "cd documents/seismology\n",
    "jupyter lab\n",
    "```\n",
    "\n",
    "The last command `jupyter lab` opens a new window in your browser from where you can start a new jupyter notebook by a simple click\n",
    "\n",
    "![start](../images/jupyterlab_start_long.png)\n",
    "\n",
    "type your first command in the first cell\n",
    "\n",
    "````"
   ]
  },
  {
   "cell_type": "code",
   "execution_count": 1,
   "id": "149800bf",
   "metadata": {
    "tags": [
     "full-width"
    ]
   },
   "outputs": [
    {
     "name": "stdout",
     "output_type": "stream",
     "text": [
      "My first command!\n"
     ]
    }
   ],
   "source": [
    "print(\"My first command!\")"
   ]
  },
  {
   "cell_type": "markdown",
   "id": "638bed05",
   "metadata": {},
   "source": [
    "```{div} full-width\n",
    "and save the notebook as `my_first_notebook.ipynb`\n",
    "\n",
    "![start](../images/jupyterlab_untitled_long.png)\n",
    "```"
   ]
  },
  {
   "cell_type": "markdown",
   "id": "8a76390d-b2d4-43b4-bc1a-8187ada61ad0",
   "metadata": {},
   "source": [
    "````{admonition} Before lunching JupyterLab \n",
    ":class: caution, full-width\n",
    "\n",
    "Please make sure to navigate to the directory `documents/seismology`\n",
    "\n",
    "```\n",
    "cd documents/seismology\n",
    "``` \n",
    "\n",
    "and activate the conda environment `seismology`\n",
    "\n",
    "```\n",
    "conda activate seismology\n",
    "``` \n",
    "Only then lunch the [JupyterLab](https://jupyter.org/) interface \n",
    "\n",
    "```\n",
    "jupyter lab\n",
    "```\n",
    "\n",
    "````"
   ]
  },
  {
   "cell_type": "markdown",
   "id": "06cd7de0-c0af-4aab-b2a3-eb64d3d702a6",
   "metadata": {},
   "source": [
    "## Local libraries\n",
    "\n",
    "\n",
    "```{div} full-width\n",
    "\n",
    "In order to implement the python commands of this book, the local libraries `theory` and `lab` have been developped.  These are simple python files {Download}`theory.py<./theory.py>` and {Download}`lab.py<./lab.py>` that contain some functions that we will often use though this book, especially for plotting our results.  We have to download them and save on the directory `seismology` that we have just created and where we will work.\n",
    "\n",
    "The content of these python files is also shown in {numref}`Lecture %s - Libraries <chap-Libraries>`.\n",
    "\n",
    "```"
   ]
  },
  {
   "cell_type": "markdown",
   "id": "362a79a0-afdf-4b9f-ae49-4229e3bf8deb",
   "metadata": {},
   "source": [
    "## Interactive computing\n",
    "\n",
    "```{div} full-width\n",
    "\n",
    "Below is an example of a code cell that you can implement in your Jupyter notebook. We will visualize some simple data using two popular packages in Python. We will use [NumPy](https://numpy.org/) to create some random data, and [Matplotlib](https://matplotlib.org) to visualize it.\n",
    "\n",
    "```"
   ]
  },
  {
   "cell_type": "code",
   "execution_count": null,
   "id": "f8051e9e-5d04-4651-9b50-347a9ba757e4",
   "metadata": {
    "tags": [
     "full-width"
    ]
   },
   "outputs": [],
   "source": [
    "from matplotlib import pyplot as plt\n",
    "import numpy as np\n",
    "\n",
    "# Generate 100 random data points along 3 dimensions\n",
    "x, y, scale = np.random.randn(3, 100)\n",
    "fig, ax = plt.subplots(tight_layout=True)\n",
    "\n",
    "# Map each onto a scatterplot we'll create with Matplotlib\n",
    "cmap = ax.scatter(x=x, y=y, c=scale, s=np.abs(scale)*500);\n",
    "ax.set(title=\"Some random data, created with JupyterLab!\");\n",
    "fig.colorbar(cmap, ax=ax, label=\"scale\");"
   ]
  },
  {
   "cell_type": "markdown",
   "id": "e3597773-7dd1-41e3-b652-957c787db2ca",
   "metadata": {},
   "source": [
    "```{div} full-width\n",
    "\n",
    "You can also allow for interacting figures in order to zoom in and out freely \n",
    "\n",
    "```"
   ]
  },
  {
   "cell_type": "code",
   "execution_count": 3,
   "id": "6bea2b3c-7744-40d4-82c7-bb5137fca362",
   "metadata": {
    "tags": [
     "full-width"
    ]
   },
   "outputs": [],
   "source": [
    "%matplotlib widget"
   ]
  },
  {
   "cell_type": "code",
   "execution_count": 4,
   "id": "e080f622-dd1a-4bb2-8dec-cf52c05926f0",
   "metadata": {
    "tags": [
     "remove-cell",
     "full-width"
    ]
   },
   "outputs": [],
   "source": [
    "%matplotlib inline"
   ]
  },
  {
   "cell_type": "markdown",
   "id": "e16f5bb1-e740-4a0a-b260-f9d88d966169",
   "metadata": {},
   "source": [
    "```{div} full-width\n",
    "\n",
    "Try to run again the code cell above to see the change.\n",
    "\n",
    "Remember also that most of the commands has an help that can be displayed. Here the help for the function `np.random.rand` that we have just used for generating 100 random data points along 3 dimensions.\n",
    "\n",
    "```"
   ]
  },
  {
   "cell_type": "code",
   "execution_count": null,
   "id": "98fc64e5-daca-4c28-9402-f77d2949007e",
   "metadata": {
    "tags": [
     "full-width"
    ]
   },
   "outputs": [],
   "source": [
    "help(np.random.rand)"
   ]
  },
  {
   "cell_type": "markdown",
   "id": "41e5f21c-676b-45d1-94fa-dfd8fd76f12d",
   "metadata": {},
   "source": [
    "<p style=\"page-break-after:always;\"></p>"
   ]
  }
 ],
 "metadata": {
  "kernelspec": {
   "display_name": "Python 3 (ipykernel)",
   "language": "python",
   "name": "python3"
  },
  "language_info": {
   "codemirror_mode": {
    "name": "ipython",
    "version": 3
   },
   "file_extension": ".py",
   "mimetype": "text/x-python",
   "name": "python",
   "nbconvert_exporter": "python",
   "pygments_lexer": "ipython3",
   "version": "3.11.0"
  },
  "vscode": {
   "interpreter": {
    "hash": "08caa3043962126f476598f374ef4590cb926dd2604ebc7838e928cc5205f4af"
   }
  }
 },
 "nbformat": 4,
 "nbformat_minor": 5
}
