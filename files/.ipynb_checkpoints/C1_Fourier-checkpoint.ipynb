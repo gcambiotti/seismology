{
 "cells": [
  {
   "cell_type": "markdown",
   "id": "402ebf0b-eced-44c8-ae17-4783441b5ea9",
   "metadata": {
    "tags": [
     "full-width"
    ]
   },
   "source": [
    "(chap-F)=\n",
    "# Fourier transform\n",
    "\n",
    "\n",
    "```{contents} Sections\n",
    ":local:\n",
    ":depth: 2\n",
    "```\n",
    "\n",
    "````{div} full-width\n",
    "\n",
    "In this chapter, we will briefly review the Fourier transform of time dependent function and how we can numerically evaluate it applying the discrete Fourier transform to a regular sampling of the function over a finite time window. We will also discuss the expansion in Fourier series of periodic functions and how it consitute the link between the Fourier transform and its discrete counterpart.\n",
    "\n",
    "````"
   ]
  },
  {
   "cell_type": "markdown",
   "id": "c2a965d2-e785-4741-80aa-f2e417543912",
   "metadata": {
    "tags": [
     "full-width"
    ]
   },
   "source": [
    "## Introduction\n",
    "\n",
    "\n",
    "```{div} full-width\n",
    "\n",
    "The Fourier transform of a function in the time domain $f(t)$ is defined as\n",
    "\n",
    "$$\n",
    "\\begin{align}\n",
    "\\tilde{f}(\\omega) &= \\int_{-\\infty}^\\infty f(t)\\,e^{-i\\,\\omega\\,t}\\,\\mathrm{d} t &\n",
    "\\end{align}\n",
    "$$ (T1:1)\n",
    "\n",
    "Here $t$ is the time, $\\omega=2\\,\\pi\\,f$ is the angular frequency (with $f$ being the frequency), $i$ is the imaginary unit and the tilde $\\sim$ stands for the Fourier transform.\n",
    "\n",
    "We can also define the inverse Fourier transform\n",
    "\n",
    "$$\n",
    "f(t)  = \\frac{1}{2\\,\\pi} \\int_{-\\infty}^\\infty \\tilde{f}(\\omega)\\,e^{i\\,\\omega\\,t}\\,\\mathrm{d} \\omega\n",
    "$$ (T1:2)\n",
    "\n",
    "which yields the function in the time domain $f(t)$ starting from its Fourier transform $\\tilde{f}(\\omega)$.  \n",
    "\n",
    "Eq. {eq}`T1:2` allows us to see the function in the time domain as the superimposition of monochromaic signals (with given frequencies) where the Fourier transform provides the weight of each monochromatic signal.\n",
    "\n",
    "```\n",
    "\n",
    "```{admonition} Dirac delta function\n",
    ":class: note, full-width\n",
    "\n",
    "Let us consider the Dirac delta function in the time domain $\\delta(t)$ introduced in {numref}`Appendix %s <chap-dirac-delta>` {ref}`chap-dirac-delta`. Its Fourier transform\n",
    "\n",
    "$$\n",
    "\\tilde{\\delta}(\\omega) = \\int_{-\\infty}^\\infty \\delta(t)\\,e^{-i\\,\\omega\\,t}\\,\\mathrm{d} t = 1\n",
    "$$ (T1:3)\n",
    "\n",
    "From eq. {eq}`T1:2`, we obtain\n",
    "\n",
    "$$\n",
    "\\delta(t) = \\frac{1}{2\\,\\pi}\\,\\int_{-\\infty}^\\infty \\tilde{\\delta}(\\omega)\\,e^{i\\,\\omega\\,t}\\,\\mathrm{d} \\omega = \\frac{1}{2\\,\\pi}\\,\\int_{-\\infty}^\\infty e^{i\\,\\omega\\,t}\\,\\mathrm{d} \\omega\n",
    "$$ (T1:4)\n",
    "\n",
    "which can be generalized with a shift in time as follows\n",
    "\n",
    "$$\n",
    "\\delta(t-\\tau) = \\frac{1}{2\\,\\pi}\\,\\int_{-\\infty}^\\infty e^{i\\,\\omega\\,(t-\\tau)}\\,\\mathrm{d} \\omega\n",
    "$$ (T1:5)\n",
    "\n",
    "By reversing the role of $\\omega$ and $t$ and substitutìng $\\tau\\rightarrow\\omega_g$, we can also write\n",
    "\n",
    "$$\n",
    "\\delta(\\omega-\\omega_g) = \\frac{1}{2\\,\\pi}\\,\\int_{-\\infty}^\\infty e^{i\\,(\\omega-\\omega_g)\\,t}\\,\\mathrm{d} t\n",
    "$$ (T1:5bis)\n",
    "\n",
    "Eqs. {eq}`T1:5` and {eq}`T1:5bis` are useful identities that we shall use in evaluating the Fourier transform of monochromatic signals. \n",
    "\n",
    "```\n",
    "\n",
    "```{admonition} Box function\n",
    ":class: note, full-width\n",
    "\n",
    "Let us consider the box function  $B_T(t)$ in the time interval $[0,T)$ \n",
    "\n",
    "$$\n",
    "B_T(t) = H(t)-H(t-T) =\\begin{cases} 1 & t\\in[0,T) \\\\ 0 & t\\notin [0,T)\n",
    "\\end{cases}\n",
    "$$ (T1:6)\n",
    "\n",
    "with $H$ being the Heaviside step function\n",
    "\n",
    "$$\n",
    "H(x) = \\begin{cases} 1 & x \\geq 0 \\\\ 0 & x<0 \\end{cases}\n",
    "$$ (T1:7)\n",
    "\n",
    "Its Fourier transform reads\n",
    "\n",
    "$$\n",
    "\\begin{align}\n",
    "\\tilde{B}_T(\\omega) &= \\int_{-\\infty}^\\infty B_T(t)\\,e^{-i\\,\\omega\\,t}\\,\\mathrm{d} t = \\int_0^T e^{-i\\,\\omega\\,t}\\,\\mathrm{d} t = \\left.\\frac{e^{-i\\,\\omega\\,t}}{-i\\,\\omega}\\right|_0^T = \\frac{1-e^{-i\\,\\omega\\,T}}{i\\,\\omega}\n",
    "\\end{align}\n",
    "$$ (T1:8)\n",
    "\n",
    "```\n",
    "\n",
    "\n",
    "\n",
    "```{caution} \n",
    ":class: full-width\n",
    "\n",
    "Despite the denominator in eq. {eq}`T1:8`, $\\tilde{B}(\\omega)$ is continuous at $\\omega=0$ as shown hereinafter\n",
    "\n",
    "$$\n",
    "\\begin{align}\n",
    "& \\lim_{\\omega \\rightarrow 0} \\tilde{B}_T(\\omega) = \\lim_{\\omega \\rightarrow 0} \\frac{1-(1-i\\,\\omega\\,T)}{i\\,\\omega} = T\n",
    "\\end{align}\n",
    "$$ (T1:9)\n",
    "\n",
    "In order to avoid any numerical issue in evaluating this Fourier transform at $\\omega=0$, it is convinient to implement the following form\n",
    "\n",
    "$$\n",
    "\\begin{align}\n",
    "\\tilde{B}_T(\\omega) &= e^{-i \\frac{\\omega\\,T}{2}}\\,\\frac{e^{i \\frac{\\omega\\,T}{2}}-e^{-i \\frac{\\omega\\,T}{2}}}{i\\,\\omega} = e^{-i \\frac{\\omega\\,T}{2}}\\, \\frac{2\\,\\sin\\big(\\frac{\\omega\\,T}{2}\\big)}{\\omega} = T\\,e^{-i\\,\\frac{\\omega\\,T}{2}}\\,J\\big(\\tfrac{\\omega\\,T}{2}\\big)\n",
    "\\end{align} \n",
    "$$ (T1:10)\n",
    "\n",
    "where $J$ is the spherical Bessel function of the first kind and order 0\n",
    "\n",
    "$$\n",
    "J(x) = \\frac{\\sin(x)}{x}\n",
    "$$ (T1:11)\n",
    "\n",
    "``` "
   ]
  },
  {
   "cell_type": "markdown",
   "id": "404809f7-01c3-4149-9f3f-fcb9f8ea0f7a",
   "metadata": {
    "tags": [
     "full-width"
    ]
   },
   "source": [
    "<font size=\"4\"> Exercise </font>\n",
    "\n",
    "```{div} full-width\n",
    "\n",
    "Let us consider the Box function and its Fourier transform, eqs. {eq}`T1:6` and {eq}`T1:10`\n",
    "\n",
    "\n",
    "**Tasks:**\n",
    "\n",
    "1. Make a Python function for the Box function $B_T(t)$ and plot it\n",
    "1. Make a Python function for the 0-order spherical Bessel function $j_n(x)$ and make sure that you can evaluate at $x=0$\n",
    "1. Make a Python function for the Fourier transform of the Box function $\\tilde{B}_T(t)$ and plot it\n",
    "```"
   ]
  },
  {
   "cell_type": "markdown",
   "id": "9a76bbb6-7000-4741-aefa-7177d645c8d1",
   "metadata": {
    "tags": [
     "full-width"
    ]
   },
   "source": [
    "```{div} full-width\n",
    "**Solution 1**\n",
    "\n",
    "Let us implement the Box function\n",
    "```"
   ]
  },
  {
   "cell_type": "code",
   "execution_count": 7,
   "id": "22573bb5-655b-4a14-969e-c08a794bca7b",
   "metadata": {
    "tags": [
     "full-width",
     "hide-input"
    ]
   },
   "outputs": [],
   "source": [
    "import numpy as np\n",
    "\n",
    "def eva_box(ts, T=1):\n",
    "    \n",
    "    box = np.ones(ts.shape)\n",
    "    box[ts<0]  = 0\n",
    "    box[ts>=T] = 0\n",
    "    \n",
    "    return box"
   ]
  },
  {
   "cell_type": "markdown",
   "id": "120d6010-24f9-4e81-acf1-22f9c91c82ad",
   "metadata": {},
   "source": [
    "```{div} full-width\n",
    "and plot it\n",
    "```"
   ]
  },
  {
   "cell_type": "code",
   "execution_count": 19,
   "id": "c4245be8-4343-44e9-8202-1def406352f0",
   "metadata": {
    "tags": [
     "full-width",
     "hide-input"
    ]
   },
   "outputs": [
    {
     "data": {
      "image/png": "[encoded data removed]",
      "text/plain": [
       "<Figure size 640x480 with 1 Axes>"
      ]
     },
     "metadata": {},
     "output_type": "display_data"
    }
   ],
   "source": [
    "T = 2\n",
    "ts = np.linspace(-T/2,2*T,10001)\n",
    "box = eva_box(ts,T)\n",
    "\n",
    "import matplotlib.pyplot as plt\n",
    "\n",
    "fig,ax = plt.subplots()\n",
    "ax.set_xlabel(\"Time [s]\");\n",
    "ax.plot(ts,box);\n",
    "\n",
    "ax.axhline(0,linewidth=0.5,color=\"black\");"
   ]
  },
  {
   "cell_type": "markdown",
   "id": "5fff0bbe-f42e-4173-ae66-76b6b5db6001",
   "metadata": {},
   "source": [
    "```{div} full-width\n",
    "**Solution 2**\n",
    "```"
   ]
  },
  {
   "cell_type": "markdown",
   "id": "ac5274f4-d7e4-4964-ad8f-868fb152809b",
   "metadata": {},
   "source": [
    "```{div} full-width\n",
    "\n",
    "Let us import the function `spherical_jn` from the module `scipy.special` and make a lambda function setting to zero the order $n$ (that is the first argument of the function `spherical_jn`)\n",
    "\n",
    "```"
   ]
  },
  {
   "cell_type": "code",
   "execution_count": 20,
   "id": "d908dca1-f2ab-466a-ba30-0dbb8c12fec1",
   "metadata": {
    "tags": [
     "full-width",
     "hide-cell"
    ]
   },
   "outputs": [
    {
     "name": "stdout",
     "output_type": "stream",
     "text": [
      "1.0\n"
     ]
    }
   ],
   "source": [
    "from scipy.special import spherical_jn\n",
    "J = lambda x: spherical_jn(0,x)\n",
    "print(J(0))"
   ]
  },
  {
   "cell_type": "markdown",
   "id": "e5578bee-28b6-4ee7-a0fa-f6440f2d9ca0",
   "metadata": {},
   "source": [
    "```{div} full-width\n",
    "**Solution 3**\n",
    "\n",
    "Let us implement the Fourier transform of the box function and plot it\n",
    "```"
   ]
  },
  {
   "cell_type": "code",
   "execution_count": 21,
   "id": "ef8b014e-e0df-4ad8-8073-7e46de5b6a83",
   "metadata": {
    "tags": [
     "full-width",
     "hide-input"
    ]
   },
   "outputs": [
    {
     "data": {
      "image/png": "[encoded data removed]",
      "text/plain": [
       "<Figure size 640x480 with 1 Axes>"
      ]
     },
     "metadata": {},
     "output_type": "display_data"
    }
   ],
   "source": [
    "#########################################################################\n",
    "def eva_FT_box(fs, T=1):\n",
    "    \n",
    "    ws = 2*np.pi*fs\n",
    "    xs = ws*T/2\n",
    "    FT_box = T * np.exp(-1j*xs) * J(xs)\n",
    "    \n",
    "    return FT_box\n",
    "#########################################################################\n",
    "\n",
    "fs = np.linspace(-10/T,10/T,10001)\n",
    "FT_box = eva_FT_box(fs,T)\n",
    "\n",
    "fig,ax = plt.subplots()\n",
    "ax.set_xlabel(\"Frequency [Hz]\");\n",
    "ax.plot(fs,FT_box.real,label=\"Re\");\n",
    "ax.plot(fs,FT_box.imag,label=\"Im\");\n",
    "ax.legend()\n",
    "\n",
    "ax.axhline(0,linewidth=0.5,color=\"black\");\n",
    "ax.axvline(0,linewidth=0.5,color=\"black\");"
   ]
  },
  {
   "cell_type": "markdown",
   "id": "90762344-8388-4c41-9bca-454b7f10423c",
   "metadata": {},
   "source": [
    "```{div} full-width\n",
    "\n",
    "We note that the Fourier transform is a complex function and, so, we plot both its real and imaginary parts. Also, we can see that the real part is symmetric with respect to the origin, while the imaginary part is antisymmetric. This is because the box function is a real function. \n",
    "\n",
    "The functions `eva_box`, `eva_FT_box` and `J` are also implemented in the `theory` module.\n",
    "\n",
    "```"
   ]
  },
  {
   "cell_type": "markdown",
   "id": "1ae1c806-35ed-41ff-bf9c-07a024c34672",
   "metadata": {
    "tags": []
   },
   "source": [
    "## Properties of the Fourier transform\n",
    "\n",
    "```{div} full-width\n",
    "\n",
    "Hereinafter we list the main properties of the Fourier transform\n",
    "\n",
    "```"
   ]
  },
  {
   "cell_type": "markdown",
   "id": "c58aa6ed-542b-42d1-bc36-72b1c198c26e",
   "metadata": {},
   "source": [
    "### Shift in time\n",
    "\n",
    "```{div} full-width\n",
    "\n",
    "The Fourier transform of a function shifted in time $f(t+t_0)$ yields the Fourier transform $\\tilde{f}(\\omega)$ multiplied by $e^{i\\,\\omega\\,t_0}$\n",
    "\n",
    "$$\n",
    "\\begin{align}\n",
    "\\int_{-\\infty}^\\infty f(t+t_0)\\,e^{-i\\,\\omega\\,t}\\,\\mathrm{d}t \n",
    "= e^{i\\,\\omega\\,t_0}\\,\\tilde{f}(\\omega)\n",
    "\\end{align}\n",
    "$$ (T1:12)\n",
    "\n",
    "```"
   ]
  },
  {
   "cell_type": "markdown",
   "id": "5522f57e-c536-48dd-880e-d409457dda63",
   "metadata": {},
   "source": [
    "### Derivatives\n",
    "\n",
    "```{div} full-width\n",
    "\n",
    "The Fourier transform of a $n$-th order time derivative of a function $f(t)$ yields the Fourier transform $\\tilde{f}(\\omega)$ multiplied by $(i\\,\\omega)^n$\n",
    "\n",
    "$$\n",
    "\\begin{align}\n",
    "\\int_{-\\infty}^\\infty \\frac{\\mathrm{d}^n f(t)}{\\mathrm{d} t^n}\\,e^{-i\\,\\omega\\,t}\\,\\mathrm{d}t = (i\\,\\omega)^n\\,\\tilde{f}(\\omega)\n",
    "\\end{align}\n",
    "$$ (T1:13)\n",
    "\n",
    "```"
   ]
  },
  {
   "cell_type": "markdown",
   "id": "ec46fd16-89aa-4964-9a42-5bc6d3d5cca5",
   "metadata": {},
   "source": [
    "### Convolution\n",
    "\n",
    "```{div} full-width\n",
    "\n",
    "The Fourier transform of the convolution between two functions $f(t)$ and $g(t)$ \n",
    "\n",
    "$$\n",
    "h(t) = \\int_{-\\infty}^\\infty f(\\tau)\\,g(t-\\tau)\\,\\mathrm{d}\\tau \n",
    "$$ (T1:14)\n",
    "\n",
    "yields the product of the two Fourier transforms $\\tilde{f}(\\omega)$ and $\\tilde{g}(\\omega)$ \n",
    "\n",
    "$$\n",
    "\\begin{align}\n",
    "\\int_{-\\infty}^\\infty h(t)\\,e^{-i\\,\\omega\\,t}\\,\\mathrm{d}t = \\tilde{f}(\\omega)\\,\\tilde{g}(\\omega)\n",
    "\\end{align}\n",
    "$$ (T1:15)\n",
    "\n",
    "```"
   ]
  },
  {
   "cell_type": "markdown",
   "id": "13703f5b-8f20-4d01-a877-0735dbdaeb9c",
   "metadata": {},
   "source": [
    "### Real functions\n",
    "\n",
    "```{div} full-width\n",
    "\n",
    "The Fourier transform of a real function $f(t)$ has the following property\n",
    "\n",
    "$$\n",
    "\\tilde{f}^*(\\omega) = \\tilde{f}(-\\omega)\n",
    "$$ (T1:16)\n",
    "\n",
    "We thus can write its inverse Fourier transform as follows\n",
    "\n",
    "$$\n",
    "f(t) = \\frac{1}{\\pi}\\,\\Re\\left[\\int_0^\\infty \\tilde{f}(\\omega)\\,e^{i\\,\\omega\\,t}\\right]\\,\\mathrm{d} \\omega = \\frac{1}{\\pi}\\,\\int_0^\\infty \\Big(\\Re\\big[\\tilde{f}(\\omega)\\big]\\,\\cos(\\omega\\,t) - \\Im\\big[\\tilde{f}(\\omega)\\big]\\,\\sin(\\omega\\,t) \\Big)\\,\\mathrm{d} \\omega\n",
    "$$ (T1:17)\n",
    "\n",
    "where $\\Re$ and $\\Im$ are the operators which returns the real and imaginary parts.\n",
    "\n",
    "---\n",
    "\n",
    "```"
   ]
  },
  {
   "cell_type": "markdown",
   "id": "89b37ab5-21c7-46ea-bd7b-3f182a3aba84",
   "metadata": {},
   "source": [
    "## Application to the harmonic oscillator\n",
    "\n",
    "```{div} full-width\n",
    "\n",
    "After Fourier transform and making use of eq. {eq}`T1:13`, the differential equation governing the harmonic oscillator, eq. {eq}`H0:6`, becomes\n",
    "\n",
    "$$\n",
    "\\big(-\\omega^2+2\\,i\\,\\omega\\,\\lambda+\\omega_0^2\\big)\\,\\tilde{z}(\\omega) = \\omega^2\\,\\tilde{u}(\\omega)\n",
    "$$ (T1:18)\n",
    "\n",
    "```\n",
    "\n",
    "### Green function\n",
    "\n",
    "```{div} full-width\n",
    "\n",
    "\n",
    "It can be solved for the Fourier transform of the relative motion $\\tilde{z}$  and cast in the following form\n",
    "\n",
    "$$\n",
    "\\tilde{z}(\\omega) = \\tilde{G}(\\omega)\\,\\big(-\\omega^2\\,\\tilde{u}(\\omega)\\big)\n",
    "$$ (T1:19)\n",
    "\n",
    "with \n",
    "\n",
    "$$\n",
    "\\tilde{G}(\\omega) = -\\frac{1}{\\omega_0^2-\\omega^2+2\\,i\\,\\omega\\,\\lambda}\n",
    "$$ (T1:20)\n",
    "\n",
    "In view of eqs. {eq}`H0:28` and {eq}`T1:15`, we can understand that $\\tilde{G}$ is the Fourier transform of the Green function of the harmonic oscilator, eq. {eq}`H0:35bis`, that we rewrite here as follows\n",
    "\n",
    "$$\n",
    "\\begin{align}\n",
    "G(t) \n",
    "&= -\\frac{\\sin(\\omega_d\\,t)\\,e^{-\\lambda\\,t}}{\\omega_d}\\,H(t) \n",
    "= \\frac{e^{\\gamma_-\\,t}-e^{\\gamma_+\\,t}}{2\\,i\\,\\omega_d}\\,H(t) \n",
    "\\end{align}\n",
    "$$  (T1:21)\n",
    "\n",
    "We can verify this remark by evaluating the Fourier transform\n",
    "\n",
    "$$\n",
    "\\begin{align}\n",
    "\\tilde{G}(\\omega) &= \\int_{-\\infty}^\\infty G(t)\\,e^{-i\\,\\omega\\,t}\\,dt = \\frac{1}{2\\,i\\,\\omega_d}\\,\\int_0^\\infty \\left(e^{(\\gamma_--i\\,\\omega)\\,t}-e^{(\\gamma_+-i\\,\\omega)\\,t}\\right)\\,d t  = \\frac{1}{2\\,i\\,\\omega_d}\\,\\left.\\left(\\frac{e^{(\\gamma_--i\\,\\omega)\\,t}}{\\gamma_--i\\,\\omega}-\\frac{e^{(\\gamma_+-i\\,\\omega)\\,t}}{\\gamma_+-i\\,\\omega}\\right)\\right|_0^\\infty \n",
    "\\\\\n",
    "&= \\frac{1}{2\\,i\\,\\omega_d}\\,\\left(\\frac{1}{\\gamma_+-i\\,\\omega}-\\frac{1}{\\gamma_--i\\,\\omega}\\right)\n",
    "= \\frac{1}{2\\,i\\,\\omega_d}\\,\\left(\\frac{\\gamma_- - \\gamma_+}{(\\gamma_+-i\\,\\omega)\\,(\\gamma_--i\\,\\omega)}\\right) = -\\frac{1}{\\omega_0^2-\\omega^2+2\\,i\\,\\omega\\,\\lambda}\n",
    "\\end{align}\n",
    "$$  (T1:22)\n",
    "\n",
    "where we make use of the following identities\n",
    "\n",
    "$$\n",
    "\\begin{align}\n",
    "& \\lim_{t\\rightarrow \\infty} e^{(\\gamma_\\pm-i\\,\\omega)\\,t} = 0 \n",
    "\\\\\n",
    "&\\gamma_- - \\gamma_+ = -2\\,i\\,\\omega_d\n",
    "\\\\\n",
    "&(\\gamma_+-i\\,\\omega)\\,(\\gamma_+-i\\,\\omega) = \\omega_0^2-\\omega^2+2\\,\\,i\\,\\omega\\,\\lambda\n",
    "\\end{align}\n",
    "$$  (T1:23)\n",
    "\n",
    "```\n",
    "\n",
    "### Response function\n",
    "\n",
    "```{div} full-width\n",
    "\n",
    "Similar, by rewriting eq. {eq}`T1:18` as follows\n",
    "\n",
    "$$\n",
    "\\tilde{z}(\\omega) = \\tilde{R}(\\omega)\\,\\tilde{u}(\\omega)\n",
    "$$  (T1:24)\n",
    "\n",
    "with \n",
    "\n",
    "$$\n",
    "\\tilde{R}(\\omega) = \\frac{\\omega^2}{\\omega_0^2-\\omega^2+2\\,i\\,\\omega\\,\\lambda}\n",
    "$$  (T1:25)\n",
    "\n",
    "we can understand that $\\tilde{R}$ is the Fourier transform of the response function of the harmonic oscillator, eq. {eq}`H0:37`.\n",
    "\n",
    "\n",
    "```\n",
    "\n",
    "### Amplitude factor and phase\n",
    "\n",
    "```{div} full-width\n",
    "\n",
    "Let us recast eq. {eq}`T1:25` in the exponential form as follows\n",
    "\n",
    "$$\n",
    "\\tilde{R}(\\omega) = \\rho(\\omega)\\,e^{i\\,\\phi(\\omega)}\n",
    "$$  (T1:26)\n",
    "\n",
    "where the module $\\rho$ and the phase $\\beta$ are given by\n",
    "\n",
    "$$\n",
    "\\rho(\\omega)= \\frac{\\omega^2}{D}\n",
    " \\qquad \\cos\\phi(\\omega) = \\frac{\\omega_0^2-\\omega^2}{D} \\qquad \\sin\\phi(\\omega) = \\frac{-2\\,\\omega\\,\\lambda}{D}\n",
    "$$  (T1:27)\n",
    "\n",
    "with $D$, as in eq. {eq}`H0:51`, given by \n",
    "\n",
    "$$\n",
    "D = \\sqrt{\\big(\\omega_0^2-\\omega^2\\big)^2+\\big(2\\,\\omega\\,\\lambda\\big)^2}\n",
    "$$  (T1:28)\n",
    "\n",
    "We note that the module $\\rho$ is symmetric while $\\beta$ is antisimmetric with respect to $\\omega$\n",
    "\n",
    "$$\n",
    "\\rho(-\\omega) = \\rho(\\omega)\n",
    "\\qquad \\beta(-\\omega) = -\\beta(\\omega) \n",
    "$$  (T1:29)\n",
    "\n",
    "Also, we note that they correspond to the amplitude factor and phase already obtained in eqs. {eq}`H0:51` and {eq}`H0:53` when the angular frequency $\\omega$ is regarded as the ground angular frequency $\\omega_g$. We will the reason of this correspondence in the next subsection. \n",
    "\n",
    "\n",
    "Before, let us implement in python the Fourier transform of the Green and response functions\n",
    "\n",
    "```"
   ]
  },
  {
   "cell_type": "code",
   "execution_count": 22,
   "id": "4f6b2e47-fd33-4ef1-9447-77dff5910edf",
   "metadata": {
    "tags": [
     "full-width",
     "hide-cell"
    ]
   },
   "outputs": [
    {
     "name": "stdout",
     "output_type": "stream",
     "text": [
      "Help on function eva_FT_green in module theory:\n",
      "\n",
      "eva_FT_green(f, natural_period=1, damping_ratio=0.1)\n",
      "    \n",
      "    Return the green function in the frequency domain evaluated \n",
      "    at the frequency (or frequencies) `f` for the harmonic oscillator \n",
      "    with given natural period and damping ratio\n",
      "\n",
      "Help on function eva_FT_response in module theory:\n",
      "\n",
      "eva_FT_response(f, natural_period=1, damping_ratio=0.1)\n",
      "    \n",
      "    Return the response function in the frequency domain evaluated \n",
      "    at the frequency (or frequencies) `f` for the harmonic oscillator \n",
      "    with given natural period and damping ratio\n",
      "\n"
     ]
    }
   ],
   "source": [
    "from theory import eva_FT_green, eva_FT_response\n",
    "\n",
    "help(eva_FT_green)\n",
    "help(eva_FT_response)"
   ]
  },
  {
   "cell_type": "markdown",
   "id": "dfc5f203-5c55-490f-918d-9ecf0ef2684c",
   "metadata": {},
   "source": [
    "```{div} full-width\n",
    "\n",
    "and plot their module and phase\n",
    "\n",
    "```"
   ]
  },
  {
   "cell_type": "code",
   "execution_count": 6,
   "id": "b339f054-f026-45f1-94f9-f13aebd64363",
   "metadata": {
    "tags": [
     "full-width",
     "hide-input"
    ]
   },
   "outputs": [
    {
     "data": {
      "image/png": "[encoded data removed]",
      "text/plain": [
       "<Figure size 1000x600 with 4 Axes>"
      ]
     },
     "metadata": {},
     "output_type": "display_data"
    }
   ],
   "source": [
    "fs = 1e1**np.linspace(-2,2,1001)\n",
    "FT_green = eva_FT_green(fs)\n",
    "FT_response = eva_FT_response(fs)\n",
    "\n",
    "fig,axes = plt.subplots(2,2,tight_layout=True,figsize=(10,6),sharex=True)\n",
    "axes[0,0].semilogx(fs,abs(FT_green),label=\"Green\")\n",
    "axes[0,1].semilogx(fs,np.angle(FT_green,deg=True),label=\"Green\")\n",
    "axes[1,0].semilogx(fs,abs(FT_response),label=\"Response\")\n",
    "axes[1,1].semilogx(fs,np.angle(FT_response,deg=True),label=\"Response\")\n",
    "\n",
    "options = dict(color=\"black\",linewidth=0.5)\n",
    "\n",
    "axes[0,0].set_title(\"Amplitude\")\n",
    "axes[0,1].set_title(\"Phase\")\n",
    "for ax in axes[:,1]:\n",
    "    ax.set_ylabel(\"Phase\")\n",
    "    ax.set_yticks([-180,-90,0,90,180])\n",
    "    ax.axhline(-180,**options)\n",
    "    ax.axhline(180,**options)\n",
    "    ax.axhline(0,**options)\n",
    "for ax in axes[1]:\n",
    "    ax.set_xlabel(\"Frequency [Hz]\")\n",
    "for ax in axes.flatten():\n",
    "    ax.legend()"
   ]
  },
  {
   "cell_type": "markdown",
   "id": "fde8b3ef-2ea1-4462-a056-08cf9bebc30b",
   "metadata": {},
   "source": [
    "```{div} full-width\n",
    "The Fourier transform of the response function describes how the relative motion of the mass is related to the\n",
    "ground motion for each frequency. In particular, it provides the ratio\n",
    "between the Fourier transform of the relative displacement, $\\tilde{z}$,\n",
    "and that of the ground displacement, $\\tilde{u}_g$. We\n",
    "note that, for high frequencies, in the limit for\n",
    "$\\omega\\rightarrow\\infty$, the frequency response function goes to\n",
    "$-1$, meaning that $\\tilde{z}(\\omega) = -\\tilde{u}(\\omega)$.\n",
    "This means that the relative\n",
    "displacement of the mass is opposite (a phase shift of $-\\pi$) to a high frequency ground motion, so\n",
    "that the mass is at rest in the inertial reference frame. On the\n",
    "contrary, for low frequency ground motion, in the limit for\n",
    "$\\omega\\rightarrow 0$, there is no relative motion and, so, the\n",
    "mass simply follows the ground motion. At the resonance frequency,\n",
    "instead, the push from the ground occurs when the mass is at top or\n",
    "bottom position (the amplitude of which depends on the damping ratio,\n",
    "$\\xi$) and there is a phase shift of $-\\pi/2$ (like when\n",
    "we push a swing at the right time).\n",
    "```"
   ]
  },
  {
   "cell_type": "markdown",
   "id": "f7bf1b8d-9294-468f-a820-61156dae4d93",
   "metadata": {},
   "source": [
    "### Sinusoidal ground motion\n",
    "\n",
    "```{div} full-width\n",
    "\n",
    "In order to undrestand the reason of this correspondence, let us consider the differential equation for the steady-state relatiev motion already discussed in the time domain, eq. {eq}`H0:42`, that we rewrite here\n",
    "\n",
    "\n",
    "$$\n",
    "\\ddot{z}_p(t)+2\\,\\lambda\\,\\dot{z}_p(t)+\\omega_0\\,z_\\mathrm{p}(t) = -g(t)\n",
    "$$ (T1:30)\n",
    "\n",
    "with $g$ being the ground acceleration that we recast as follows\n",
    "\n",
    "$$\n",
    "g(t) = A_g\\,\\sin(\\omega_g\\,t+\\phi_g) = A_g\\,\\frac{e^{i\\,\\omega_g\\,t+i\\,\\phi_g} - e^{-i\\,\\omega_g\\,t-i\\,\\phi_g}}{2\\,i}\n",
    "$$  (T1:31)\n",
    "\n",
    "Its Fourier transform yields\n",
    "\n",
    "$$\n",
    "\\tilde{g}(\\omega) = \\int_{-\\infty}^\\infty g(t)\\,e^{-i\\,\\omega\\,t}\\,d t = \\frac{A_g}{2\\,i}\\,\\int_{-\\infty}^\\infty \\left(e^{i\\,(\\omega_g-\\omega)\\,t+i\\,\\phi_g} - e^{-i\\,(\\omega_g+\\omega)\\,t-i\\,\\phi_g}\\right)\\,dt = \\frac{\\pi\\,A_g}{i}\\,\\left(\\delta(\\omega-\\omega_g)\\,e^{i\\,\\phi_g}-\\delta(\\omega+\\omega_g)\\,e^{-i\\,\\phi_g}\\right)\n",
    "$$  (T1:32)\n",
    "\n",
    "It is noteworthy that it is characterized only by the frequency $\\omega=\\pm\\omega_g$ and this is due to the fact that it is a monocromatic signal with angular frequency $\\omega_g$.\n",
    "\n",
    "Let us now consider the Fourier transform of the relative acceleration and write it as the product of the Fourier transform of the response function and of the ground acceleration\n",
    "\n",
    "$$\n",
    "-\\omega^2\\,\\tilde{z}_p(\\omega) = \\tilde{R}(\\omega)\\,\\tilde{g}(\\omega) = \\frac{\\pi\\,A_g}{i}\\,\\left(\\delta(\\omega-\\omega_g)\\,e^{i\\,\\phi_g}-\\delta(\\omega+\\omega_g)\\,e^{-i\\,\\phi_g}\\right)\\,\\tilde{R}(\\omega)\n",
    "$$  (T1:33)\n",
    "\n",
    "and take its inverse Fourier transform\n",
    "\n",
    "$$\n",
    "\\begin{align}\n",
    "\\ddot{z}_p(t) &= \\frac{1}{2\\,\\pi}\\,\\int_{-\\infty}^\\infty \\big(-\\omega^2\\,\\tilde{z}_p(\\omega)\\big)\\,e^{i\\,\\omega\\,t}\\,d \\omega = \\frac{A_g}{2\\,i}\\,\\int_{-\\infty}^\\infty \\left(\\delta(\\omega-\\omega_g)\\,e^{i\\,\\phi_g}-\\delta(\\omega+\\omega_g)\\,e^{-i\\,\\phi_g}\\right)\\,\\tilde{R}(\\omega)\\,e^{i\\,\\omega\\,t}\\,d \\omega \n",
    "\\\\\n",
    "&= \\frac{A_g}{2\\,i}\\,\\left(R(\\omega_g)\\,e^{i\\,(\\omega_g\\,t+\\phi_g)}-R(-\\omega_g)\\,e^{-i\\,(\\omega_g\\,t+\\phi_g)}\\right) = \\frac{A_g}{2\\,i}\\,\\rho(\\omega_g)\\,\\left(e^{i\\,(\\omega_g\\,t+\\phi_g+\\phi(\\omega_g))}-e^{-i\\,(\\omega_g\\,t+\\phi_g+\\phi(\\omega_g))}\\right) \\\\\n",
    "&= A_g\\,\\rho(\\omega_g)\\,\\sin\\big(\\omega_g\\,t+\\phi_g+\\phi(\\omega_g)\\big)\n",
    "\\end{align}\n",
    "$$  (T1:34)\n",
    "\n",
    "This result coincides with the solution given by eq. {eq}`H0:48` and derived in the time domain just because $\\rho(\\omega_g)$ and $\\phi(\\omega_g)$ coincides with the amplitude factor and phase, eqs. {eq}`H0:51` and {eq}`H0:53`. It also shows how the Fourier transform provides an alternative method for solving differential equations.\n",
    "\n",
    "```"
   ]
  },
  {
   "cell_type": "markdown",
   "id": "f1370d1e-5795-44b7-9307-28b56ee2b820",
   "metadata": {},
   "source": [
    "<p style=\"page-break-after:always;\"></p>"
   ]
  }
 ],
 "metadata": {
  "kernelspec": {
   "display_name": "Python 3 (ipykernel)",
   "language": "python",
   "name": "python3"
  },
  "language_info": {
   "codemirror_mode": {
    "name": "ipython",
    "version": 3
   },
   "file_extension": ".py",
   "mimetype": "text/x-python",
   "name": "python",
   "nbconvert_exporter": "python",
   "pygments_lexer": "ipython3",
   "version": "3.11.0"
  },
  "toc-autonumbering": false,
  "toc-showcode": false,
  "toc-showmarkdowntxt": false,
  "toc-showtags": true
 },
 "nbformat": 4,
 "nbformat_minor": 5
}
